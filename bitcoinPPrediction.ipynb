{
  "nbformat": 4,
  "nbformat_minor": 0,
  "metadata": {
    "colab": {
      "name": "bitcoinPPrediction.ipynb",
      "provenance": [],
      "authorship_tag": "ABX9TyMaUMgCUnXRVndVX1Tg859U",
      "include_colab_link": true
    },
    "kernelspec": {
      "name": "python3",
      "display_name": "Python 3"
    }
  },
  "cells": [
    {
      "cell_type": "markdown",
      "metadata": {
        "id": "view-in-github",
        "colab_type": "text"
      },
      "source": [
        "<a href=\"https://colab.research.google.com/github/sadik-20/091920_repo/blob/master/bitcoinPPrediction.ipynb\" target=\"_parent\"><img src=\"https://colab.research.google.com/assets/colab-badge.svg\" alt=\"Open In Colab\"/></a>"
      ]
    },
    {
      "cell_type": "code",
      "metadata": {
        "id": "p988yV7qgQmz"
      },
      "source": [
        "import math\n",
        "import pandas_datareader as web\n",
        "import numpy as np\n",
        "import pandas as pd\n",
        "from sklearn.preprocessing import MinMaxScaler\n",
        "from keras.models import Sequential\n",
        "from keras.layers import Dense, LSTM\n",
        "import matplotlib.pyplot as plt\n",
        "plt.style.use('fivethirtyeight')"
      ],
      "execution_count": 33,
      "outputs": []
    },
    {
      "cell_type": "code",
      "metadata": {
        "colab": {
          "base_uri": "https://localhost:8080/",
          "height": 450
        },
        "id": "xlR2U9r-ihc6",
        "outputId": "88a5d798-8682-4e30-f622-473b98991717"
      },
      "source": [
        "df = web.DataReader('BTC-USD', data_source='yahoo', start='2014-01-01', end='2020-12-17')\n",
        "df"
      ],
      "execution_count": 90,
      "outputs": [
        {
          "output_type": "execute_result",
          "data": {
            "text/html": [
              "<div>\n",
              "<style scoped>\n",
              "    .dataframe tbody tr th:only-of-type {\n",
              "        vertical-align: middle;\n",
              "    }\n",
              "\n",
              "    .dataframe tbody tr th {\n",
              "        vertical-align: top;\n",
              "    }\n",
              "\n",
              "    .dataframe thead th {\n",
              "        text-align: right;\n",
              "    }\n",
              "</style>\n",
              "<table border=\"1\" class=\"dataframe\">\n",
              "  <thead>\n",
              "    <tr style=\"text-align: right;\">\n",
              "      <th></th>\n",
              "      <th>High</th>\n",
              "      <th>Low</th>\n",
              "      <th>Open</th>\n",
              "      <th>Close</th>\n",
              "      <th>Volume</th>\n",
              "      <th>Adj Close</th>\n",
              "    </tr>\n",
              "    <tr>\n",
              "      <th>Date</th>\n",
              "      <th></th>\n",
              "      <th></th>\n",
              "      <th></th>\n",
              "      <th></th>\n",
              "      <th></th>\n",
              "      <th></th>\n",
              "    </tr>\n",
              "  </thead>\n",
              "  <tbody>\n",
              "    <tr>\n",
              "      <th>2014-09-16</th>\n",
              "      <td>468.174011</td>\n",
              "      <td>452.421997</td>\n",
              "      <td>465.864014</td>\n",
              "      <td>457.334015</td>\n",
              "      <td>2.105680e+07</td>\n",
              "      <td>457.334015</td>\n",
              "    </tr>\n",
              "    <tr>\n",
              "      <th>2014-09-17</th>\n",
              "      <td>456.859985</td>\n",
              "      <td>413.104004</td>\n",
              "      <td>456.859985</td>\n",
              "      <td>424.440002</td>\n",
              "      <td>3.448320e+07</td>\n",
              "      <td>424.440002</td>\n",
              "    </tr>\n",
              "    <tr>\n",
              "      <th>2014-09-18</th>\n",
              "      <td>427.834991</td>\n",
              "      <td>384.532013</td>\n",
              "      <td>424.102997</td>\n",
              "      <td>394.795990</td>\n",
              "      <td>3.791970e+07</td>\n",
              "      <td>394.795990</td>\n",
              "    </tr>\n",
              "    <tr>\n",
              "      <th>2014-09-19</th>\n",
              "      <td>423.295990</td>\n",
              "      <td>389.882996</td>\n",
              "      <td>394.673004</td>\n",
              "      <td>408.903992</td>\n",
              "      <td>3.686360e+07</td>\n",
              "      <td>408.903992</td>\n",
              "    </tr>\n",
              "    <tr>\n",
              "      <th>2014-09-20</th>\n",
              "      <td>412.425995</td>\n",
              "      <td>393.181000</td>\n",
              "      <td>408.084991</td>\n",
              "      <td>398.821014</td>\n",
              "      <td>2.658010e+07</td>\n",
              "      <td>398.821014</td>\n",
              "    </tr>\n",
              "    <tr>\n",
              "      <th>...</th>\n",
              "      <td>...</td>\n",
              "      <td>...</td>\n",
              "      <td>...</td>\n",
              "      <td>...</td>\n",
              "      <td>...</td>\n",
              "      <td>...</td>\n",
              "    </tr>\n",
              "    <tr>\n",
              "      <th>2020-12-14</th>\n",
              "      <td>19305.099609</td>\n",
              "      <td>19012.708984</td>\n",
              "      <td>19144.492188</td>\n",
              "      <td>19246.644531</td>\n",
              "      <td>2.247400e+10</td>\n",
              "      <td>19246.644531</td>\n",
              "    </tr>\n",
              "    <tr>\n",
              "      <th>2020-12-15</th>\n",
              "      <td>19525.007812</td>\n",
              "      <td>19079.841797</td>\n",
              "      <td>19246.919922</td>\n",
              "      <td>19417.076172</td>\n",
              "      <td>2.674198e+10</td>\n",
              "      <td>19417.076172</td>\n",
              "    </tr>\n",
              "    <tr>\n",
              "      <th>2020-12-16</th>\n",
              "      <td>21458.908203</td>\n",
              "      <td>19298.316406</td>\n",
              "      <td>19418.818359</td>\n",
              "      <td>21310.597656</td>\n",
              "      <td>4.440901e+10</td>\n",
              "      <td>21310.597656</td>\n",
              "    </tr>\n",
              "    <tr>\n",
              "      <th>2020-12-17</th>\n",
              "      <td>23642.660156</td>\n",
              "      <td>21234.675781</td>\n",
              "      <td>21308.351562</td>\n",
              "      <td>22805.162109</td>\n",
              "      <td>7.137861e+10</td>\n",
              "      <td>22805.162109</td>\n",
              "    </tr>\n",
              "    <tr>\n",
              "      <th>2020-12-18</th>\n",
              "      <td>23238.601562</td>\n",
              "      <td>22399.812500</td>\n",
              "      <td>22806.796875</td>\n",
              "      <td>23137.960938</td>\n",
              "      <td>4.038790e+10</td>\n",
              "      <td>23137.960938</td>\n",
              "    </tr>\n",
              "  </tbody>\n",
              "</table>\n",
              "<p>2281 rows × 6 columns</p>\n",
              "</div>"
            ],
            "text/plain": [
              "                    High           Low  ...        Volume     Adj Close\n",
              "Date                                    ...                            \n",
              "2014-09-16    468.174011    452.421997  ...  2.105680e+07    457.334015\n",
              "2014-09-17    456.859985    413.104004  ...  3.448320e+07    424.440002\n",
              "2014-09-18    427.834991    384.532013  ...  3.791970e+07    394.795990\n",
              "2014-09-19    423.295990    389.882996  ...  3.686360e+07    408.903992\n",
              "2014-09-20    412.425995    393.181000  ...  2.658010e+07    398.821014\n",
              "...                  ...           ...  ...           ...           ...\n",
              "2020-12-14  19305.099609  19012.708984  ...  2.247400e+10  19246.644531\n",
              "2020-12-15  19525.007812  19079.841797  ...  2.674198e+10  19417.076172\n",
              "2020-12-16  21458.908203  19298.316406  ...  4.440901e+10  21310.597656\n",
              "2020-12-17  23642.660156  21234.675781  ...  7.137861e+10  22805.162109\n",
              "2020-12-18  23238.601562  22399.812500  ...  4.038790e+10  23137.960938\n",
              "\n",
              "[2281 rows x 6 columns]"
            ]
          },
          "metadata": {
            "tags": []
          },
          "execution_count": 90
        }
      ]
    },
    {
      "cell_type": "code",
      "metadata": {
        "colab": {
          "base_uri": "https://localhost:8080/"
        },
        "id": "j8iOL4odkLIr",
        "outputId": "b4e85edb-b704-48d1-ae36-d721c7cb8e03"
      },
      "source": [
        "#get the number of rows and columns in the data set\n",
        "df.shape"
      ],
      "execution_count": 63,
      "outputs": [
        {
          "output_type": "execute_result",
          "data": {
            "text/plain": [
              "(2281, 5)"
            ]
          },
          "metadata": {
            "tags": []
          },
          "execution_count": 63
        }
      ]
    },
    {
      "cell_type": "code",
      "metadata": {
        "colab": {
          "base_uri": "https://localhost:8080/",
          "height": 558
        },
        "id": "LncX_x0slskz",
        "outputId": "75f3d059-28cf-4237-8269-d544966fd3ad"
      },
      "source": [
        "#Visualize the closing price history\n",
        "plt.figure(figsize=(16,8))\n",
        "plt.title ('Close Price History')\n",
        "plt.plot(df['Close'])\n",
        "plt.xlabel('Date',fontsize=18)\n",
        "plt.ylabel('Close price USD($)', fontsize=18)\n",
        "plt.show()\n",
        "\n"
      ],
      "execution_count": 64,
      "outputs": [
        {
          "output_type": "display_data",
          "data": {
            "image/png": "[encoded data removed]",
            "text/plain": [
              "<Figure size 1152x576 with 1 Axes>"
            ]
          },
          "metadata": {
            "tags": []
          }
        }
      ]
    },
    {
      "cell_type": "code",
      "metadata": {
        "colab": {
          "base_uri": "https://localhost:8080/"
        },
        "id": "Nuc1oR5am2ZV",
        "outputId": "1eb8a791-6570-4988-e2d5-6de8a6df7bec"
      },
      "source": [
        "#Create a new dataframe with only the \"Close column\"\n",
        "data = df.filter(['Close'])\n",
        "# converting to the dataframe to Numpy array\n",
        "dataset= data.values\n",
        "#getting the number of rows to train the model on \n",
        "training_data_len = math.ceil(len(dataset)* .8)\n",
        "training_data_len"
      ],
      "execution_count": 65,
      "outputs": [
        {
          "output_type": "execute_result",
          "data": {
            "text/plain": [
              "1825"
            ]
          },
          "metadata": {
            "tags": []
          },
          "execution_count": 65
        }
      ]
    },
    {
      "cell_type": "code",
      "metadata": {
        "colab": {
          "base_uri": "https://localhost:8080/"
        },
        "id": "eyB_aqheo1bK",
        "outputId": "57a0b9d9-290b-4553-e362-a97c01a1564a"
      },
      "source": [
        "# Scale the data\n",
        "scaler = MinMaxScaler(feature_range=(0,1))\n",
        "scaled_data = scaler.fit_transform(dataset)\n",
        "\n",
        "scaled_data"
      ],
      "execution_count": 67,
      "outputs": [
        {
          "output_type": "execute_result",
          "data": {
            "text/plain": [
              "array([[0.0121617 ],\n",
              "       [0.01072903],\n",
              "       [0.00943791],\n",
              "       ...,\n",
              "       [0.92041051],\n",
              "       [0.98550519],\n",
              "       [1.        ]])"
            ]
          },
          "metadata": {
            "tags": []
          },
          "execution_count": 67
        }
      ]
    },
    {
      "cell_type": "code",
      "metadata": {
        "colab": {
          "base_uri": "https://localhost:8080/"
        },
        "id": "mO-HqZ48pQf0",
        "outputId": "8c9132f0-9141-4d96-afcb-00b3b49e2600"
      },
      "source": [
        "#create training data set\n",
        "#create scaled training data set\n",
        "train_data = scaled_data[0:training_data_len , :]\n",
        "#Split the data into x_train and y_train data sets\n",
        "x_train = []\n",
        "y_train = []\n",
        "\n",
        "for i in range(60, len(train_data)):\n",
        "  x_train.append(train_data[i-60:i,0])\n",
        "  y_train.append(train_data[i,0])\n",
        "  if i <= 61:\n",
        "    print(x_train)\n",
        "    print(y_train)\n",
        "    print()"
      ],
      "execution_count": 68,
      "outputs": [
        {
          "output_type": "stream",
          "text": [
            "[array([0.0121617 , 0.01072903, 0.00943791, 0.01005237, 0.00961321,\n",
            "       0.00975829, 0.01122341, 0.01067524, 0.01016866, 0.00985729,\n",
            "       0.00964366, 0.0086707 , 0.00859605, 0.00909592, 0.00895093,\n",
            "       0.00857884, 0.00790114, 0.00656637, 0.00620243, 0.00661921,\n",
            "       0.00688523, 0.0076149 , 0.0081413 , 0.00799042, 0.00802252,\n",
            "       0.00873028, 0.00924705, 0.00970246, 0.00943691, 0.0089048 ,\n",
            "       0.00895715, 0.00929183, 0.00920925, 0.00891739, 0.00907549,\n",
            "       0.00893102, 0.00785345, 0.00785031, 0.00736799, 0.00769173,\n",
            "       0.00761703, 0.00781865, 0.00685928, 0.00728236, 0.00697818,\n",
            "       0.00643061, 0.00643684, 0.00650923, 0.00663719, 0.00702892,\n",
            "       0.00745593, 0.00715649, 0.00729033, 0.00806455, 0.00822396,\n",
            "       0.00825754, 0.01069075, 0.01056766, 0.00956953, 0.00862505])]\n",
            "[0.009136772197862393]\n",
            "\n",
            "[array([0.0121617 , 0.01072903, 0.00943791, 0.01005237, 0.00961321,\n",
            "       0.00975829, 0.01122341, 0.01067524, 0.01016866, 0.00985729,\n",
            "       0.00964366, 0.0086707 , 0.00859605, 0.00909592, 0.00895093,\n",
            "       0.00857884, 0.00790114, 0.00656637, 0.00620243, 0.00661921,\n",
            "       0.00688523, 0.0076149 , 0.0081413 , 0.00799042, 0.00802252,\n",
            "       0.00873028, 0.00924705, 0.00970246, 0.00943691, 0.0089048 ,\n",
            "       0.00895715, 0.00929183, 0.00920925, 0.00891739, 0.00907549,\n",
            "       0.00893102, 0.00785345, 0.00785031, 0.00736799, 0.00769173,\n",
            "       0.00761703, 0.00781865, 0.00685928, 0.00728236, 0.00697818,\n",
            "       0.00643061, 0.00643684, 0.00650923, 0.00663719, 0.00702892,\n",
            "       0.00745593, 0.00715649, 0.00729033, 0.00806455, 0.00822396,\n",
            "       0.00825754, 0.01069075, 0.01056766, 0.00956953, 0.00862505]), array([0.01072903, 0.00943791, 0.01005237, 0.00961321, 0.00975829,\n",
            "       0.01122341, 0.01067524, 0.01016866, 0.00985729, 0.00964366,\n",
            "       0.0086707 , 0.00859605, 0.00909592, 0.00895093, 0.00857884,\n",
            "       0.00790114, 0.00656637, 0.00620243, 0.00661921, 0.00688523,\n",
            "       0.0076149 , 0.0081413 , 0.00799042, 0.00802252, 0.00873028,\n",
            "       0.00924705, 0.00970246, 0.00943691, 0.0089048 , 0.00895715,\n",
            "       0.00929183, 0.00920925, 0.00891739, 0.00907549, 0.00893102,\n",
            "       0.00785345, 0.00785031, 0.00736799, 0.00769173, 0.00761703,\n",
            "       0.00781865, 0.00685928, 0.00728236, 0.00697818, 0.00643061,\n",
            "       0.00643684, 0.00650923, 0.00663719, 0.00702892, 0.00745593,\n",
            "       0.00715649, 0.00729033, 0.00806455, 0.00822396, 0.00825754,\n",
            "       0.01069075, 0.01056766, 0.00956953, 0.00862505, 0.00913677])]\n",
            "[0.009136772197862393, 0.009116127513358585]\n",
            "\n"
          ],
          "name": "stdout"
        }
      ]
    },
    {
      "cell_type": "code",
      "metadata": {
        "id": "7qc0JW4iudTF"
      },
      "source": [
        "#convert the x_train and y_train to numpy arrays\n",
        "x_train, y_train = np.array(x_train), np.array(y_train)"
      ],
      "execution_count": 69,
      "outputs": []
    },
    {
      "cell_type": "code",
      "metadata": {
        "colab": {
          "base_uri": "https://localhost:8080/"
        },
        "id": "OVaitkS08R1W",
        "outputId": "7eeb0411-6509-459b-9138-4f005b0229f0"
      },
      "source": [
        "#Reshape the data\n",
        "x_train = np.reshape(x_train, (x_train.shape[0],x_train.shape[1], 1))\n",
        "x_train.shape"
      ],
      "execution_count": 70,
      "outputs": [
        {
          "output_type": "execute_result",
          "data": {
            "text/plain": [
              "(1765, 60, 1)"
            ]
          },
          "metadata": {
            "tags": []
          },
          "execution_count": 70
        }
      ]
    },
    {
      "cell_type": "code",
      "metadata": {
        "id": "lOl5aJMv-BBy"
      },
      "source": [
        "#Build the LSTM model\n",
        "model = Sequential()\n",
        "model.add(LSTM(50, return_sequences=True, input_shape=(x_train.shape[1], 1)))\n",
        "model.add(LSTM(50, return_sequences=False))\n",
        "model.add(Dense(25))\n",
        "model.add(Dense(1))"
      ],
      "execution_count": 71,
      "outputs": []
    },
    {
      "cell_type": "code",
      "metadata": {
        "id": "kgea_uGT_pvu"
      },
      "source": [
        "#Compile the model\n",
        "model.compile(optimizer='adam', loss='mean_squared_error')"
      ],
      "execution_count": 72,
      "outputs": []
    },
    {
      "cell_type": "code",
      "metadata": {
        "colab": {
          "base_uri": "https://localhost:8080/"
        },
        "id": "kfC00diWAGxv",
        "outputId": "480ae87b-b906-4ab5-b441-cceff39d433f"
      },
      "source": [
        "#Train the model\n",
        "model.fit(x_train, y_train, batch_size=1, epochs=1)"
      ],
      "execution_count": 73,
      "outputs": [
        {
          "output_type": "stream",
          "text": [
            "1765/1765 [==============================] - 45s 24ms/step - loss: 0.0023\n"
          ],
          "name": "stdout"
        },
        {
          "output_type": "execute_result",
          "data": {
            "text/plain": [
              "<tensorflow.python.keras.callbacks.History at 0x7f85b9190790>"
            ]
          },
          "metadata": {
            "tags": []
          },
          "execution_count": 73
        }
      ]
    },
    {
      "cell_type": "code",
      "metadata": {
        "id": "MsWwTF06BC8J"
      },
      "source": [
        "#Create the testing data set\n",
        "#Create a new array containing scaled values from index 1543 to 2003\n",
        "test_data = scaled_data[training_data_len - 60: , :]\n",
        "#Create the data sets x_test and y_test\n",
        "x_test = []\n",
        "y_test = dataset[training_data_len:, :]\n",
        "for i in range(60, len(test_data)):\n",
        "  x_test.append(test_data[i-60:i, 0])"
      ],
      "execution_count": 74,
      "outputs": []
    },
    {
      "cell_type": "code",
      "metadata": {
        "id": "OT8b1itYD7Lq"
      },
      "source": [
        "x_test = np.array(x_test)"
      ],
      "execution_count": 75,
      "outputs": []
    },
    {
      "cell_type": "code",
      "metadata": {
        "id": "jDHSLjR-CJnu"
      },
      "source": [
        "#Reshape the data\n",
        "x_test = np.reshape(x_test, (x_test.shape[0], x_test.shape[1], 1))"
      ],
      "execution_count": 76,
      "outputs": []
    },
    {
      "cell_type": "code",
      "metadata": {
        "id": "-_j6sXvXEJpQ"
      },
      "source": [
        "predictions = model.predict(x_test)\n",
        "predictions = scaler.inverse_transform(predictions)"
      ],
      "execution_count": 83,
      "outputs": []
    },
    {
      "cell_type": "code",
      "metadata": {
        "colab": {
          "base_uri": "https://localhost:8080/"
        },
        "id": "qP0FZF7mEe2D",
        "outputId": "82885c57-3010-4f3d-df57-cc07f968778a"
      },
      "source": [
        "#getting the root mean squared error(RMSE)\n",
        "#rmse = np.sqrt(np.mean(((predictions- y_test)**2)))\n",
        "#rmse = np.sqrt(((predictions - y_test) ** 2).mean())\n",
        "#rmse = np.sqrt(np.mean(np.power((np.array(y_test)-np.array(predictions)),2)))\n",
        "rmse = np.sqrt(np.mean(predictions - y_test)**2)\n",
        "rmse"
      ],
      "execution_count": 84,
      "outputs": [
        {
          "output_type": "execute_result",
          "data": {
            "text/plain": [
              "559.26171875"
            ]
          },
          "metadata": {
            "tags": []
          },
          "execution_count": 84
        }
      ]
    },
    {
      "cell_type": "code",
      "metadata": {
        "colab": {
          "base_uri": "https://localhost:8080/",
          "height": 680
        },
        "id": "D51E_bD7FyCy",
        "outputId": "9fac1783-bd98-44ea-a3be-a24ab4394a2b"
      },
      "source": [
        "train = data[:training_data_len]\n",
        "valid = data[training_data_len:]\n",
        "valid['Predictions'] = predictions\n",
        "\n",
        "#visualize the data\n",
        "plt.figure(figsize=(16,8))\n",
        "plt.title('Model')\n",
        "plt.xlabel('Date', fontsize= 18)\n",
        "plt.ylabel('Close Price USD($)', fontsize=18)\n",
        "plt.plot(train['Close'])\n",
        "plt.plot(valid[['Close', 'Predictions']])\n",
        "plt.legend(['Train','Val','Predictions'], loc = 'lower right')\n",
        "plt.show()"
      ],
      "execution_count": 87,
      "outputs": [
        {
          "output_type": "stream",
          "text": [
            "/usr/local/lib/python3.7/dist-packages/ipykernel_launcher.py:3: SettingWithCopyWarning: \n",
            "A value is trying to be set on a copy of a slice from a DataFrame.\n",
            "Try using .loc[row_indexer,col_indexer] = value instead\n",
            "\n",
            "See the caveats in the documentation: https://pandas.pydata.org/pandas-docs/stable/user_guide/indexing.html#returning-a-view-versus-a-copy\n",
            "  This is separate from the ipykernel package so we can avoid doing imports until\n"
          ],
          "name": "stderr"
        },
        {
          "output_type": "display_data",
          "data": {
            "image/png": "[encoded data removed]",
            "text/plain": [
              "<Figure size 1152x576 with 1 Axes>"
            ]
          },
          "metadata": {
            "tags": []
          }
        }
      ]
    },
    {
      "cell_type": "code",
      "metadata": {
        "colab": {
          "base_uri": "https://localhost:8080/",
          "height": 450
        },
        "id": "8m-jKKA2RRVt",
        "outputId": "db50791b-0c36-49c4-e3d4-65962e316b3c"
      },
      "source": [
        "#Show the actual and predicted prices\n",
        "valid"
      ],
      "execution_count": 97,
      "outputs": [
        {
          "output_type": "execute_result",
          "data": {
            "text/html": [
              "<div>\n",
              "<style scoped>\n",
              "    .dataframe tbody tr th:only-of-type {\n",
              "        vertical-align: middle;\n",
              "    }\n",
              "\n",
              "    .dataframe tbody tr th {\n",
              "        vertical-align: top;\n",
              "    }\n",
              "\n",
              "    .dataframe thead th {\n",
              "        text-align: right;\n",
              "    }\n",
              "</style>\n",
              "<table border=\"1\" class=\"dataframe\">\n",
              "  <thead>\n",
              "    <tr style=\"text-align: right;\">\n",
              "      <th></th>\n",
              "      <th>Close</th>\n",
              "      <th>Predictions</th>\n",
              "    </tr>\n",
              "    <tr>\n",
              "      <th>Date</th>\n",
              "      <th></th>\n",
              "      <th></th>\n",
              "    </tr>\n",
              "  </thead>\n",
              "  <tbody>\n",
              "    <tr>\n",
              "      <th>2019-09-15</th>\n",
              "      <td>10276.793945</td>\n",
              "      <td>9863.092773</td>\n",
              "    </tr>\n",
              "    <tr>\n",
              "      <th>2019-09-16</th>\n",
              "      <td>10241.272461</td>\n",
              "      <td>9863.323242</td>\n",
              "    </tr>\n",
              "    <tr>\n",
              "      <th>2019-09-17</th>\n",
              "      <td>10198.248047</td>\n",
              "      <td>9853.301758</td>\n",
              "    </tr>\n",
              "    <tr>\n",
              "      <th>2019-09-18</th>\n",
              "      <td>10266.415039</td>\n",
              "      <td>9832.633789</td>\n",
              "    </tr>\n",
              "    <tr>\n",
              "      <th>2019-09-19</th>\n",
              "      <td>10181.641602</td>\n",
              "      <td>9822.186523</td>\n",
              "    </tr>\n",
              "    <tr>\n",
              "      <th>...</th>\n",
              "      <td>...</td>\n",
              "      <td>...</td>\n",
              "    </tr>\n",
              "    <tr>\n",
              "      <th>2020-12-14</th>\n",
              "      <td>19246.644531</td>\n",
              "      <td>17465.697266</td>\n",
              "    </tr>\n",
              "    <tr>\n",
              "      <th>2020-12-15</th>\n",
              "      <td>19417.076172</td>\n",
              "      <td>17667.626953</td>\n",
              "    </tr>\n",
              "    <tr>\n",
              "      <th>2020-12-16</th>\n",
              "      <td>21310.597656</td>\n",
              "      <td>17904.130859</td>\n",
              "    </tr>\n",
              "    <tr>\n",
              "      <th>2020-12-17</th>\n",
              "      <td>22805.162109</td>\n",
              "      <td>18477.443359</td>\n",
              "    </tr>\n",
              "    <tr>\n",
              "      <th>2020-12-18</th>\n",
              "      <td>23137.960938</td>\n",
              "      <td>19376.250000</td>\n",
              "    </tr>\n",
              "  </tbody>\n",
              "</table>\n",
              "<p>456 rows × 2 columns</p>\n",
              "</div>"
            ],
            "text/plain": [
              "                   Close   Predictions\n",
              "Date                                  \n",
              "2019-09-15  10276.793945   9863.092773\n",
              "2019-09-16  10241.272461   9863.323242\n",
              "2019-09-17  10198.248047   9853.301758\n",
              "2019-09-18  10266.415039   9832.633789\n",
              "2019-09-19  10181.641602   9822.186523\n",
              "...                  ...           ...\n",
              "2020-12-14  19246.644531  17465.697266\n",
              "2020-12-15  19417.076172  17667.626953\n",
              "2020-12-16  21310.597656  17904.130859\n",
              "2020-12-17  22805.162109  18477.443359\n",
              "2020-12-18  23137.960938  19376.250000\n",
              "\n",
              "[456 rows x 2 columns]"
            ]
          },
          "metadata": {
            "tags": []
          },
          "execution_count": 97
        }
      ]
    },
    {
      "cell_type": "code",
      "metadata": {
        "colab": {
          "base_uri": "https://localhost:8080/"
        },
        "id": "jsFNTVffRwId",
        "outputId": "88140fc4-bc4c-485f-9012-9488e6e408e4"
      },
      "source": [
        "# get the quote from the model\n",
        "#create a new dataframe\n",
        "quote_df = df.filter(['Close'])\n",
        "#get the last 60 days closing price values and convert the dataframe to an array\n",
        "last_60_days = quote_df[-60:].values\n",
        "#Scale the data to be values between 0 and 1\n",
        "last_60_days_scaled = scaler.transform(last_60_days)\n",
        "#Create an empty list\n",
        "X_test = []\n",
        "#Append the past 60 days\n",
        "X_test.append(last_60_days_scaled)\n",
        "# convert the X_test data set to a nump array\n",
        "X_test = np.array(X_test)\n",
        "#Reshape the data\n",
        "X_test = np.reshape(X_test, (X_test.shape[0], X_test.shape[1], 1))\n",
        "#get the predicted scaled price\n",
        "pred_price = model.predict(X_test)\n",
        "#undo the scaling\n",
        "pred_price = scaler.inverse_transform(pred_price)\n",
        "print(pred_price)\n"
      ],
      "execution_count": 99,
      "outputs": [
        {
          "output_type": "stream",
          "text": [
            "[[20303.861]]\n"
          ],
          "name": "stdout"
        }
      ]
    },
    {
      "cell_type": "code",
      "metadata": {
        "colab": {
          "base_uri": "https://localhost:8080/"
        },
        "id": "yR_LdUvJUwiC",
        "outputId": "f5523296-893b-4ee3-f261-5565b5a9c458"
      },
      "source": [
        "quote_df2 = web.DataReader('BTC-USD', data_source='yahoo', start='2020-12-18', end='2020-12-18')\n",
        "print(quote_df2['Close'])\n"
      ],
      "execution_count": 102,
      "outputs": [
        {
          "output_type": "stream",
          "text": [
            "Date\n",
            "2020-12-18    23137.960938\n",
            "2020-12-19    23869.832031\n",
            "Name: Close, dtype: float64\n"
          ],
          "name": "stdout"
        }
      ]
    },
    {
      "cell_type": "code",
      "metadata": {
        "id": "Cvr5C7Mya1Q6"
      },
      "source": [
        ""
      ],
      "execution_count": null,
      "outputs": []
    }
  ]
}